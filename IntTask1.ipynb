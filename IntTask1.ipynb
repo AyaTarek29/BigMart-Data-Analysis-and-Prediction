{
  "nbformat": 4,
  "nbformat_minor": 0,
  "metadata": {
    "colab": {
      "provenance": [],
      "authorship_tag": "ABX9TyMODsvworGygpznIWw6jObE",
      "include_colab_link": true
    },
    "kernelspec": {
      "name": "python3",
      "display_name": "Python 3"
    },
    "language_info": {
      "name": "python"
    }
  },
  "cells": [
    {
      "cell_type": "markdown",
      "metadata": {
        "id": "view-in-github",
        "colab_type": "text"
      },
      "source": [
        "<a href=\"https://colab.research.google.com/github/AyaTarek29/BigMart-Data-Analysis-and-Prediction/blob/main/IntTask1.ipynb\" target=\"_parent\"><img src=\"https://colab.research.google.com/assets/colab-badge.svg\" alt=\"Open In Colab\"/></a>"
      ]
    },
    {
      "cell_type": "code",
      "execution_count": null,
      "metadata": {
        "id": "bsg6y2d8vc87"
      },
      "outputs": [],
      "source": [
        "#Problem Statment: BigMart is a retail chain with 10 outlets in different cities. They have collected sales data for 1559 products from 2013. The data scientists at BigMart want to build a predictive model to predict the sales of each product at a particular outlet. This model will help BigMart understand the properties of products and outlets that play a key role in increasing sales.\n",
        "#Item weight\n",
        "#Items fat content\n",
        "#Item_Visibility\n",
        "#Item MRP:\n",
        "import numpy as np\n",
        "import pandas as pd\n",
        "import matplotlib.pyplot as plt\n",
        "%matplotlib inline\n",
        "import seaborn as sns\n",
        "import warnings\n",
        "import joblib\n",
        "from sklearn.preprocessing import LabelEncoder\n",
        "from sklearn.model_selection import train_test_split\n",
        "from sklearn.linear_model import LinearRegression\n",
        "from sklearn.metrics import r2_score, mean_absolute_error, mean_squared_error\n",
        "from sklearn.ensemble import RandomForestRegressor\n",
        "import plotly.graph_objects as go\n",
        "from plotly.subplots import make_subplots\n",
        "from xgboost import XGBRegressor\n",
        "warnings.filterwarnings(\"ignore\")\n",
        "upload=files.upload()\n",
        "upload=files.upload()"
      ]
    },
    {
      "cell_type": "code",
      "source": [
        "df_train = pd.read_csv(\"Train.csv\")\n",
        "df_test = pd.read_csv(\"Test.csv\")"
      ],
      "metadata": {
        "id": "JU-mTsgsvvdN"
      },
      "execution_count": null,
      "outputs": []
    },
    {
      "cell_type": "code",
      "source": [
        "df_train.head()"
      ],
      "metadata": {
        "id": "mouxdh4hvwaJ"
      },
      "execution_count": null,
      "outputs": []
    },
    {
      "cell_type": "code",
      "source": [
        "df_test.head()"
      ],
      "metadata": {
        "id": "2FDmZhUGvwlz"
      },
      "execution_count": null,
      "outputs": []
    },
    {
      "cell_type": "code",
      "source": [
        "\n",
        "print('Train Data',df_train.shape)\n",
        "print('Test Data',df_test.shape)"
      ],
      "metadata": {
        "id": "r40b0lUEvwwN"
      },
      "execution_count": null,
      "outputs": []
    },
    {
      "cell_type": "code",
      "source": [
        "\n",
        "df_train.info()"
      ],
      "metadata": {
        "id": "YoAW-J8Uvw4H"
      },
      "execution_count": null,
      "outputs": []
    },
    {
      "cell_type": "code",
      "source": [
        "df_train.boxplot()"
      ],
      "metadata": {
        "id": "8mja5nT6yylm"
      },
      "execution_count": null,
      "outputs": []
    },
    {
      "cell_type": "code",
      "source": [
        "print('Number of trainings examples:', len(df_train),'\\n')\n",
        "df_train.describe().T.style.background_gradient(cmap='Blues')"
      ],
      "metadata": {
        "id": "cV7kPXq5y0EP"
      },
      "execution_count": null,
      "outputs": []
    },
    {
      "cell_type": "code",
      "source": [
        "numerical = df_train.select_dtypes(include = ['int64', 'Int64','float64']).dtypes.index\n",
        "numerical"
      ],
      "metadata": {
        "id": "Mxtg9ZN-y23Z"
      },
      "execution_count": null,
      "outputs": []
    },
    {
      "cell_type": "code",
      "source": [
        "numerical = df_train.select_dtypes(include = ['int64', 'Int64','float64']).dtypes.index\n",
        "numerical"
      ],
      "metadata": {
        "id": "j4cu20WTy6RO"
      },
      "execution_count": null,
      "outputs": []
    },
    {
      "cell_type": "code",
      "source": [
        "def UVA_Categorical(data, cat):\n",
        "  plt.figure(figsize = (10,6))\n",
        "  sns.countplot(x=cat, data = data)\n",
        "  plt.xlabel(cat,fontsize = 14, fontweight = 'bold')\n",
        "  plt.ylabel('Count',fontsize = 14, fontweight = 'bold')\n",
        "  plt.title('Value counts: \\n{}'.format(df_train[cat].value_counts(normalize = True)))\n",
        "  if len(data[cat].value_counts()) > 7:\n",
        "    X = plt.gca().xaxis\n",
        "    for item in X.get_ticklabels():\n",
        "      item.set_rotation(90)\n",
        "  plt.show()"
      ],
      "metadata": {
        "id": "Y2EZdxiKy8Iu"
      },
      "execution_count": null,
      "outputs": []
    },
    {
      "cell_type": "code",
      "source": [
        "\n",
        "UVA_Categorical(df_train,'Item_Fat_Content')"
      ],
      "metadata": {
        "id": "oHxEnBnqy9TF"
      },
      "execution_count": null,
      "outputs": []
    },
    {
      "cell_type": "code",
      "source": [
        "total_low_fat = 0.597090 + 0.037076 + 0.013141\n",
        "total_low_fat"
      ],
      "metadata": {
        "id": "-HpmfX6qzByG"
      },
      "execution_count": null,
      "outputs": []
    },
    {
      "cell_type": "code",
      "source": [
        "UVA_Categorical(df_train, 'Item_Type')"
      ],
      "metadata": {
        "id": "mU3Q3V-5zMqK"
      },
      "execution_count": null,
      "outputs": []
    },
    {
      "cell_type": "code",
      "source": [
        "UVA_Categorical(df_train, 'Outlet_Identifier')"
      ],
      "metadata": {
        "id": "AFxkNkshzPzl"
      },
      "execution_count": null,
      "outputs": []
    },
    {
      "cell_type": "code",
      "source": [
        "UVA_Categorical(df_train,'Outlet_Size')"
      ],
      "metadata": {
        "id": "HvcWZM6CzRus"
      },
      "execution_count": null,
      "outputs": []
    },
    {
      "cell_type": "code",
      "source": [
        "UVA_Categorical(df_train, 'Outlet_Location_Type')"
      ],
      "metadata": {
        "id": "DBYO9MkPzPXV"
      },
      "execution_count": null,
      "outputs": []
    },
    {
      "cell_type": "code",
      "source": [
        "UVA_Categorical(df_train, 'Outlet_Type')"
      ],
      "metadata": {
        "id": "1XHF8uWxzT2X"
      },
      "execution_count": null,
      "outputs": []
    },
    {
      "cell_type": "code",
      "source": [
        "df_train['source'] = 'Train'\n",
        "df_test['source'] = 'Test'\n",
        "df=pd.concat([df_train,df_test], ignore_index=True)"
      ],
      "metadata": {
        "id": "hWG5mNewzgGz"
      },
      "execution_count": null,
      "outputs": []
    },
    {
      "cell_type": "code",
      "source": [
        "df.info()"
      ],
      "metadata": {
        "id": "WG3svJiozi_c"
      },
      "execution_count": null,
      "outputs": []
    },
    {
      "cell_type": "code",
      "source": [
        "plt.figure(figsize = (10,6))\n",
        "sns.heatmap(df.isnull(), yticklabels=False,cbar = False,cmap ='viridis')"
      ],
      "metadata": {
        "id": "6v9T1Pr-zjss"
      },
      "execution_count": null,
      "outputs": []
    },
    {
      "cell_type": "code",
      "source": [
        "def missing_percent():\n",
        "  miss_item_weight = (df['Item_Weight'].isnull().sum()/len(df))*100\n",
        "  miss_Outlet_Size = (df['Outlet_Size'].isnull().sum()/len(df))*100\n",
        "\n",
        "  print('% of missing values in Item_Weight: ' + str(miss_item_weight))\n",
        "  print('% of missing values in Outlet_Size: ' +str(miss_Outlet_Size))\n",
        "\n",
        "missing_percent()"
      ],
      "metadata": {
        "id": "KXktjN1Mzlz-"
      },
      "execution_count": null,
      "outputs": []
    },
    {
      "cell_type": "code",
      "source": [
        "df['Item_Weight'].fillna(df['Item_Weight'].mean(),inplace=True)"
      ],
      "metadata": {
        "id": "iW607nRMzndd"
      },
      "execution_count": null,
      "outputs": []
    },
    {
      "cell_type": "code",
      "source": [
        "df['Outlet_Size'].fillna('Medium', inplace=True)"
      ],
      "metadata": {
        "id": "mMvSV_Hnzspp"
      },
      "execution_count": null,
      "outputs": []
    },
    {
      "cell_type": "code",
      "source": [
        "df.isnull().sum()"
      ],
      "metadata": {
        "id": "sI0Imi9Bztao"
      },
      "execution_count": null,
      "outputs": []
    },
    {
      "cell_type": "code",
      "source": [
        "df.Item_Visibility.value_counts"
      ],
      "metadata": {
        "id": "2kExvREDzxQ7"
      },
      "execution_count": null,
      "outputs": []
    },
    {
      "cell_type": "code",
      "source": [
        "df['Item_Visibility'].replace(0.0,value=np.nan,inplace=True)"
      ],
      "metadata": {
        "id": "rkYyEtOXzx2E"
      },
      "execution_count": null,
      "outputs": []
    },
    {
      "cell_type": "code",
      "source": [
        "df['Item_Visibility']=df['Item_Visibility'].fillna(df.groupby('Item_Identifier')['Item_Visibility'].transform('mean'))"
      ],
      "metadata": {
        "id": "pCUJSj5Fz2vy"
      },
      "execution_count": null,
      "outputs": []
    },
    {
      "cell_type": "code",
      "source": [
        "plt.figure(figsize=(7,5))\n",
        "sns.countplot(x='Item_Fat_Content',data=df)"
      ],
      "metadata": {
        "id": "fzGWoRdKz9Eq"
      },
      "execution_count": null,
      "outputs": []
    },
    {
      "cell_type": "code",
      "source": [
        "df['Item_Fat_Content'].replace({'LF':'Low Fat','reg':'Regular','low fat':'Low Fat'},inplace=True)"
      ],
      "metadata": {
        "id": "7nAcvaVYz-wM"
      },
      "execution_count": null,
      "outputs": []
    },
    {
      "cell_type": "code",
      "source": [
        "plt.figure(figsize=(7,5))\n",
        "sns.countplot(x='Item_Fat_Content',data=df)"
      ],
      "metadata": {
        "id": "igXVzAi20BKh"
      },
      "execution_count": null,
      "outputs": []
    },
    {
      "cell_type": "code",
      "source": [
        "test_pred = df.loc[df['source'] == 'Test']\n",
        "test_pred.drop(['Item_Outlet_Sales','source'],axis=1,inplace=True)\n",
        "test_pred.head()"
      ],
      "metadata": {
        "id": "YnZTxCdC0DVO"
      },
      "execution_count": null,
      "outputs": []
    },
    {
      "cell_type": "code",
      "source": [
        "from sklearn.preprocessing import LabelEncoder\n",
        "categ = ['Item_Fat_Content', 'Item_Type', 'Outlet_Size', 'Outlet_Location_Type', 'Outlet_Type']\n",
        "le = LabelEncoder()\n",
        "df[categ] = df[categ].apply(le.fit_transform)"
      ],
      "metadata": {
        "id": "d7mW82kB0HdB"
      },
      "execution_count": null,
      "outputs": []
    },
    {
      "cell_type": "code",
      "source": [
        "df.drop(['Item_Identifier','Outlet_Identifier'],axis=1,inplace=True)"
      ],
      "metadata": {
        "id": "_6RJrS920IBW"
      },
      "execution_count": null,
      "outputs": []
    },
    {
      "cell_type": "code",
      "source": [
        "df.head()"
      ],
      "metadata": {
        "id": "dysiroi50KH6"
      },
      "execution_count": null,
      "outputs": []
    },
    {
      "cell_type": "code",
      "source": [
        "train = df.loc[df['source'] == 'Train']\n",
        "test = df.loc[df['source'] == 'Test']"
      ],
      "metadata": {
        "id": "S0lFWqIB0NAq"
      },
      "execution_count": null,
      "outputs": []
    },
    {
      "cell_type": "code",
      "source": [
        "train.drop(['source'],axis=1,inplace=True)\n",
        "test.drop(['Item_Outlet_Sales','source'],axis=1,inplace=True)"
      ],
      "metadata": {
        "id": "bGEKMIhL0Qxd"
      },
      "execution_count": null,
      "outputs": []
    },
    {
      "cell_type": "code",
      "source": [
        "train.head()"
      ],
      "metadata": {
        "id": "hOFLtMqB0Rev"
      },
      "execution_count": null,
      "outputs": []
    },
    {
      "cell_type": "code",
      "source": [
        "test.head()"
      ],
      "metadata": {
        "id": "BMbej-Cd0XBg"
      },
      "execution_count": null,
      "outputs": []
    },
    {
      "cell_type": "code",
      "source": [
        "x = train.drop(columns=\"Item_Outlet_Sales\")\n",
        "y = train[\"Item_Outlet_Sales\"]\n",
        "\n",
        "from sklearn.model_selection import train_test_split\n",
        "X_train, X_test, y_train, y_test = train_test_split(x, y,test_size=0.2, random_state = 0)"
      ],
      "metadata": {
        "id": "Ar9-3rcS0YG7"
      },
      "execution_count": null,
      "outputs": []
    },
    {
      "cell_type": "code",
      "source": [
        "model_comparison = {}"
      ],
      "metadata": {
        "id": "cHO8Gn3W0cXZ"
      },
      "execution_count": null,
      "outputs": []
    },
    {
      "cell_type": "code",
      "source": [
        "from sklearn.metrics import r2_score, mean_absolute_error, mean_squared_error"
      ],
      "metadata": {
        "id": "W3vkswfM0do4"
      },
      "execution_count": null,
      "outputs": []
    },
    {
      "cell_type": "code",
      "source": [
        "from sklearn.linear_model import LinearRegression\n",
        "\n",
        "lr = LinearRegression()\n",
        "\n",
        "lr.fit(X_train,y_train)"
      ],
      "metadata": {
        "id": "GlIvYHyR0gGE"
      },
      "execution_count": null,
      "outputs": []
    },
    {
      "cell_type": "code",
      "source": [
        "y_pred = lr.predict(X_test)"
      ],
      "metadata": {
        "id": "5jjKyNEO0ieH"
      },
      "execution_count": null,
      "outputs": []
    },
    {
      "cell_type": "code",
      "source": [
        "y_pred"
      ],
      "metadata": {
        "id": "UofTChGT0jBz"
      },
      "execution_count": null,
      "outputs": []
    },
    {
      "cell_type": "code",
      "source": [
        "model_comparison['Linear Regression'] = [lr.score(X_train,y_train)*100,r2_score(y_test,y_pred)*100]\n",
        "\n",
        "print(\"Linear Regression\\n\\nAccuracy: {}%\".format(round(lr.score(X_train,y_train)*100)))\n",
        "print(\"r2 score: {}%\".format(round(r2_score(y_test,y_pred)*100)))"
      ],
      "metadata": {
        "id": "kPSviI9x0kKu"
      },
      "execution_count": null,
      "outputs": []
    },
    {
      "cell_type": "code",
      "source": [
        "from sklearn.ensemble import RandomForestRegressor\n",
        "\n",
        "rf = RandomForestRegressor(n_estimators=400,max_depth=6,min_samples_leaf=100,n_jobs=4)\n",
        "rf.fit(X_train,y_train)\n",
        "\n",
        "y_pred = rf.predict(X_test)"
      ],
      "metadata": {
        "id": "wjONCcCz0rfj"
      },
      "execution_count": null,
      "outputs": []
    },
    {
      "cell_type": "code",
      "source": [
        "y_pred"
      ],
      "metadata": {
        "id": "JDWUsz9F0sKV"
      },
      "execution_count": null,
      "outputs": []
    },
    {
      "cell_type": "code",
      "source": [
        "model_comparison['Random Forest'] = [rf.score(X_train,y_train)*100,r2_score(y_test,y_pred)*100]\n",
        "\n",
        "print(\"Random Forest\\n\\nAccuracy: {}%\".format(round(rf.score(X_train,y_train)*100)))\n",
        "print(\"r2 score: {}%\".format(round(r2_score(y_test,y_pred)*100)))"
      ],
      "metadata": {
        "id": "Fl4WsgIm0uRN"
      },
      "execution_count": null,
      "outputs": []
    },
    {
      "cell_type": "code",
      "source": [
        "from xgboost import XGBRegressor\n",
        "\n",
        "xgb = XGBRegressor(n_estimators = 100, learning_rate=0.05)\n",
        "xgb.fit(X_train, y_train)\n",
        "\n",
        "y_pred = xgb.predict(X_test)"
      ],
      "metadata": {
        "id": "jTM31Z-C0vAb"
      },
      "execution_count": null,
      "outputs": []
    },
    {
      "cell_type": "code",
      "source": [
        "y_pred"
      ],
      "metadata": {
        "id": "GbmzJLIF0wTx"
      },
      "execution_count": null,
      "outputs": []
    },
    {
      "cell_type": "code",
      "source": [
        "model_comparison['XGBoost Regressor'] = [xgb.score(X_train,y_train)*100,r2_score(y_test,y_pred)*100]\n",
        "\n",
        "print(\"XGBoost Regressor\\n\\nAccuracy: {}%\".format(round(xgb.score(X_train,y_train)*100)))\n",
        "print(\"r2 score: {}%\".format(round(r2_score(y_test,y_pred)*100)))"
      ],
      "metadata": {
        "id": "hVtjVzX30yf3"
      },
      "execution_count": null,
      "outputs": []
    },
    {
      "cell_type": "code",
      "source": [
        "model_comparison_df = pd.DataFrame.from_dict(model_comparison).T\n",
        "model_comparison_df.columns = ['Accuracy', \"r2_score\"]\n",
        "model_comparison_df = model_comparison_df.sort_values('Accuracy', ascending=True)\n",
        "model_comparison_df.style.background_gradient(cmap='Blues')"
      ],
      "metadata": {
        "id": "KPSH6te10y_m"
      },
      "execution_count": null,
      "outputs": []
    },
    {
      "cell_type": "code",
      "source": [
        "import plotly.graph_objects as go\n",
        "from plotly.subplots import make_subplots"
      ],
      "metadata": {
        "id": "3gd6qzcB000G"
      },
      "execution_count": null,
      "outputs": []
    },
    {
      "cell_type": "code",
      "source": [
        "fig = go.Figure(data=[\n",
        "    go.Bar(name='r2_score', y=model_comparison_df.index, x=model_comparison_df['r2_score'], orientation='h', marker_color='#7baaf7'),\n",
        "    go.Bar(name='Accuracy', y=model_comparison_df.index, x=model_comparison_df['Accuracy'], orientation='h', marker_color='#4285f4')\n",
        "])\n",
        "fig.update_layout(barmode='group')\n",
        "fig.show()"
      ],
      "metadata": {
        "id": "0oQcYOCd02Pk"
      },
      "execution_count": null,
      "outputs": []
    },
    {
      "cell_type": "code",
      "source": [
        "test.head()"
      ],
      "metadata": {
        "id": "XZhIsNko04ht"
      },
      "execution_count": null,
      "outputs": []
    },
    {
      "cell_type": "code",
      "source": [
        "pred = xgb.predict(test)"
      ],
      "metadata": {
        "id": "EIPVQ_0O06Jn"
      },
      "execution_count": null,
      "outputs": []
    },
    {
      "cell_type": "code",
      "source": [
        "pred"
      ],
      "metadata": {
        "id": "zS1sNX1307Nk"
      },
      "execution_count": null,
      "outputs": []
    },
    {
      "cell_type": "code",
      "source": [
        "test_pred.head()"
      ],
      "metadata": {
        "id": "X1XDl4Zn073L"
      },
      "execution_count": null,
      "outputs": []
    },
    {
      "cell_type": "code",
      "source": [
        "test_pred[\"Predicted_Item_Outlet_Sale\"] = pred"
      ],
      "metadata": {
        "id": "98ycGqSl09YJ"
      },
      "execution_count": null,
      "outputs": []
    },
    {
      "cell_type": "code",
      "source": [
        "test_pred"
      ],
      "metadata": {
        "id": "sm2PIO8p0-1x"
      },
      "execution_count": null,
      "outputs": []
    },
    {
      "cell_type": "code",
      "source": [
        "test_pred.to_csv(\"submission.csv\",index=False)"
      ],
      "metadata": {
        "id": "4s9-GwYR1BDU"
      },
      "execution_count": null,
      "outputs": []
    },
    {
      "cell_type": "code",
      "source": [
        "ls=[]\n",
        "for i in test.columns:\n",
        "    s = float(input(f\"Enter the {i}:\"))\n",
        "    ls.append(s)"
      ],
      "metadata": {
        "id": "CJOeFpj61CjA"
      },
      "execution_count": null,
      "outputs": []
    },
    {
      "cell_type": "code",
      "source": [
        "xgb.predict(np.array(ls).reshape(1,-1))"
      ],
      "metadata": {
        "id": "LmeAp4sZ1D7W"
      },
      "execution_count": null,
      "outputs": []
    },
    {
      "cell_type": "code",
      "source": [
        "ls1=[]\n",
        "for i in test.columns:\n",
        "    s = float(input(f\"Enter the {i}:\"))\n",
        "    ls1.append(s)"
      ],
      "metadata": {
        "id": "MarCBeOu1FMn"
      },
      "execution_count": null,
      "outputs": []
    },
    {
      "cell_type": "code",
      "source": [
        "xgb.predict(np.array(ls1).reshape(1,-1))"
      ],
      "metadata": {
        "id": "goHyzmMX1Gtf"
      },
      "execution_count": null,
      "outputs": []
    },
    {
      "cell_type": "code",
      "source": [
        "import joblib\n",
        "import pickle\n",
        "\n",
        "joblib.dump(xgb,\"BigMart_model.sav\")"
      ],
      "metadata": {
        "id": "PrvfYmcI1HNs"
      },
      "execution_count": null,
      "outputs": []
    },
    {
      "cell_type": "code",
      "source": [
        "pickle.dump(xgb,open('BigMart_model.pkl','wb'))"
      ],
      "metadata": {
        "id": "rzcuk4Do1JLq"
      },
      "execution_count": null,
      "outputs": []
    }
  ]
}